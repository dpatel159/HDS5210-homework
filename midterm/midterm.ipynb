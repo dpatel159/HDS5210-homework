{
  "cells": [
    {
      "cell_type": "markdown",
      "metadata": {
        "id": "YUQVHY4DTcqn"
      },
      "source": [
        "### Mid-term for HDS5210\n",
        "\n",
        "Your supervisor is concerned about 4-year survival risks for COPD. She has asked for you to do some analysis using a new metric, BODE. BODE is an improvement on a previous metric and promises to provide insight on survival risks.\n",
        "\n",
        "BODE is defined here. https://www.mdcalc.com/calc/3916/bode-index-copd-survival#evidence\n",
        "\n",
        "Your assignment is to create a BODE calculation, use it to calculate BODE scores and BODE survival rates for a group of patients. Then we want to evaluate the average BODE scores and BODE survival rates for each area hospital.\n",
        "\n",
        "Your patient input file will have the following columns:\n",
        "NAME,SSN,LANGUAGE,JOB,HEIGHT_M,WEIGHT_KG,fev_pct,dyspnea_description,distance_in_meters,hospital\n",
        "\n",
        "BODE calculations require a BMI value, so you will have to create a function for it.\n",
        "\n",
        "Your output should be in the form of two CSV files, patient_output.csv and hospital_output.csv.\n",
        "\n",
        "Patient_output will have the following columns:\n",
        "NAME,BODE_SCORE,BODE_RISK,HOSPITAL\n",
        "\n",
        "Hospital output will have the following columns:\n",
        "HOSPITAL_NAME, COPD_COUNT, PCT_OF_COPD_CASES_OVER_BEDS, AVG_SCORE, AVG_RISK\n",
        "\n",
        "Each function you create should have documentation and a suitable number of test cases. If the input data could be wrong, make sure to raise a Value Error.\n",
        "\n",
        "For this assignment, use the doctest, json, and csv libraries. Pandas is not allowed for this assignment."
      ]
    },
    {
      "cell_type": "code",
      "execution_count": 101,
      "metadata": {
        "id": "Qd3s5W5FTcqp"
      },
      "outputs": [],
      "source": [
        "import doctest\n",
        "import json\n",
        "import csv"
      ]
    },
    {
      "cell_type": "markdown",
      "metadata": {
        "id": "rrFj9IHKTcqq"
      },
      "source": [
        "### Step 1: Calculate BMI"
      ]
    },
    {
      "cell_type": "code",
      "source": [
        "def calculate_bmi(weight, height):\n",
        "    \"\"\"\n",
        "    Calculate BMI (Body Mass Index) given the weight (in kg) and height (in meters).\n",
        "\n",
        "    Formula: BMI = weight / (height ** 2)\n",
        "\n",
        "    >>> calculate_bmi(70, 1.75)\n",
        "    22.86\n",
        "    >>> calculate_bmi(50, 1.60)\n",
        "    19.53\n",
        "    \"\"\"\n",
        "    bmi = weight / (height ** 2)\n",
        "    return round(bmi, 2)\n",
        "\n",
        "\n"
      ],
      "metadata": {
        "id": "UyxjXM45U8Dz"
      },
      "execution_count": 102,
      "outputs": []
    },
    {
      "cell_type": "code",
      "source": [
        "print(calculate_bmi(70, 1.75))  # Output: 22.86\n",
        "print(calculate_bmi(50, 1.60))  # Output: 19.53\n"
      ],
      "metadata": {
        "id": "oYtb9D7hU9N3",
        "outputId": "5f8954ea-e19a-49cc-c6b8-386ff4c50c6c",
        "colab": {
          "base_uri": "https://localhost:8080/"
        }
      },
      "execution_count": 103,
      "outputs": [
        {
          "output_type": "stream",
          "name": "stdout",
          "text": [
            "22.86\n",
            "19.53\n"
          ]
        }
      ]
    },
    {
      "cell_type": "markdown",
      "metadata": {
        "id": "1dgtT-gmTcqr"
      },
      "source": [
        "### Step 2: Calculate BODE Score"
      ]
    },
    {
      "cell_type": "code",
      "source": [],
      "metadata": {
        "id": "abQfNuCOVXQN"
      },
      "execution_count": 103,
      "outputs": []
    },
    {
      "cell_type": "code",
      "execution_count": 104,
      "metadata": {
        "id": "a_RisqGsVY-0"
      },
      "outputs": [],
      "source": [
        "def calculate_bode_score(bmi, fev1_percentage, mrc_score, walk_distance):\n",
        "    \"\"\"\n",
        "    Calculate the BODE score for a patient.\n",
        "\n",
        "    BODE score is based on:\n",
        "    - BMI (Body Mass Index)\n",
        "    - FEV1% predicted (Forced Expiratory Volume in 1 second as % of predicted)\n",
        "    - MRC Dyspnoea Scale score\n",
        "    - 6-minute walk distance (in meters)\n",
        "\n",
        "    BODE score ranges from 0 to 10.\n",
        "\n",
        "    >>> calculate_bode_score(22, 70, 2, 400)\n",
        "    1\n",
        "    >>> calculate_bode_score(18, 45, 4, 150)\n",
        "    8\n",
        "    \"\"\"\n",
        "    # BMI points (0 if BMI > 21, 1 if BMI <= 21)\n",
        "    bmi_points = 1 if bmi <= 21 else 0\n",
        "\n",
        "    # FEV1 percentage points\n",
        "    if fev1_percentage >= 65:\n",
        "        fev1_points = 0\n",
        "    elif 50 <= fev1_percentage < 65:\n",
        "        fev1_points = 1\n",
        "    elif 36 <= fev1_percentage < 50:\n",
        "        fev1_points = 2\n",
        "    else:\n",
        "        fev1_points = 3\n",
        "\n",
        "    # MRC Dyspnoea Scale points (MRC score 1 to 5 is converted to 0 to 4)\n",
        "    mrc_points = mrc_score - 1\n",
        "\n",
        "    # 6-minute walk distance points\n",
        "    if walk_distance >= 350:\n",
        "        walk_points = 0\n",
        "    elif 250 <= walk_distance < 350:\n",
        "        walk_points = 1\n",
        "    elif 150 <= walk_distance < 250:\n",
        "        walk_points = 2\n",
        "    else:\n",
        "        walk_points = 3\n",
        "\n",
        "    # BODE score is the sum of all points\n",
        "    bode_score = bmi_points + fev1_points + mrc_points + walk_points\n",
        "    return bode_score\n",
        "\n",
        "# Running doctest\n",
        "if __name__ == \"__main__\":\n",
        "    import doctest\n",
        "    doctest.testmod()\n"
      ]
    },
    {
      "cell_type": "code",
      "source": [
        "print(calculate_bode_score(22, 70, 2, 400))  # Output: 1\n",
        "print(calculate_bode_score(18, 45, 4, 150))  # Output: 8\n"
      ],
      "metadata": {
        "outputId": "e217b813-76d3-4d41-ce13-c00acdd82d99",
        "colab": {
          "base_uri": "https://localhost:8080/"
        },
        "id": "6n2OoKTzVcG8"
      },
      "execution_count": 105,
      "outputs": [
        {
          "output_type": "stream",
          "name": "stdout",
          "text": [
            "1\n",
            "8\n"
          ]
        }
      ]
    },
    {
      "cell_type": "markdown",
      "metadata": {
        "id": "FKpSgcEMTcqr"
      },
      "source": [
        "### Step 3: Calculate BODE Risk"
      ]
    },
    {
      "cell_type": "code",
      "source": [
        "def calculate_bode_risk(bode_score):\n",
        "    \"\"\"\n",
        "    Calculate BODE risk category based on the BODE score.\n",
        "\n",
        "    Risk categories:\n",
        "    - 0-2: Low risk\n",
        "    - 3-4: Moderate risk\n",
        "    - 5-6: High risk\n",
        "    - 7-10: Very high risk\n",
        "\n",
        "    >>> calculate_bode_risk(1)\n",
        "    'Low risk'\n",
        "    >>> calculate_bode_risk(5)\n",
        "    'High risk'\n",
        "    >>> calculate_bode_risk(8)\n",
        "    'Very high risk'\n",
        "    \"\"\"\n",
        "    if bode_score <= 2:\n",
        "        return 'Low risk'\n",
        "    elif 3 <= bode_score <= 4:\n",
        "        return 'Moderate risk'\n",
        "    elif 5 <= bode_score <= 6:\n",
        "        return 'High risk'\n",
        "    else:\n",
        "        return 'Very high risk'\n",
        "\n",
        "# Running doctest\n",
        "if __name__ == \"__main__\":\n",
        "    import doctest\n",
        "    doctest.testmod()\n"
      ],
      "metadata": {
        "id": "_NQWlhQxVeVj"
      },
      "execution_count": 106,
      "outputs": []
    },
    {
      "cell_type": "code",
      "source": [
        "print(calculate_bode_risk(1))  # Output: 'Low risk'\n",
        "print(calculate_bode_risk(5))  # Output: 'High risk'\n",
        "print(calculate_bode_risk(8))  # Output: 'Very high risk'\n"
      ],
      "metadata": {
        "id": "4DAayG-6VF4Z",
        "outputId": "acc695fe-a4cf-4eb8-b45a-ad021ffcc7fa",
        "colab": {
          "base_uri": "https://localhost:8080/"
        }
      },
      "execution_count": 107,
      "outputs": [
        {
          "output_type": "stream",
          "name": "stdout",
          "text": [
            "Low risk\n",
            "High risk\n",
            "Very high risk\n"
          ]
        }
      ]
    },
    {
      "cell_type": "markdown",
      "metadata": {
        "id": "GRxzzVP5Tcqs"
      },
      "source": [
        "### Step 4: Load Hospital Data"
      ]
    },
    {
      "cell_type": "code",
      "execution_count": 108,
      "metadata": {
        "id": "SjpRBCN_Tcqs",
        "outputId": "7c4f2cf3-6a19-40b2-a831-4b0cd15d42ed",
        "colab": {
          "base_uri": "https://localhost:8080/"
        }
      },
      "outputs": [
        {
          "output_type": "stream",
          "name": "stdout",
          "text": [
            "Sample dataset 'patient_input.csv' has been created.\n"
          ]
        }
      ],
      "source": [
        "import csv\n",
        "import random\n",
        "from datetime import datetime, timedelta\n",
        "\n",
        "def generate_ssn():\n",
        "    return f\"{random.randint(100, 999)}-{random.randint(10, 99)}-{random.randint(1000, 9999)}\"\n",
        "\n",
        "def generate_name():\n",
        "    first_names = [\"John\", \"Jane\", \"Mike\", \"Emily\", \"David\", \"Sarah\", \"Robert\", \"Lisa\", \"William\", \"Mary\"]\n",
        "    last_names = [\"Smith\", \"Johnson\", \"Williams\", \"Brown\", \"Jones\", \"Garcia\", \"Miller\", \"Davis\", \"Rodriguez\", \"Martinez\"]\n",
        "    return f\"{random.choice(first_names)} {random.choice(last_names)}\"\n",
        "\n",
        "def generate_language():\n",
        "    return random.choice([\"English\", \"Spanish\", \"French\", \"German\", \"Chinese\", \"Arabic\"])\n",
        "\n",
        "def generate_job():\n",
        "    jobs = [\"Teacher\", \"Engineer\", \"Doctor\", \"Nurse\", \"Accountant\", \"Lawyer\", \"Salesperson\", \"Manager\", \"Chef\", \"Driver\"]\n",
        "    return random.choice(jobs)\n",
        "\n",
        "def generate_height():\n",
        "    return round(random.uniform(1.50, 2.00), 2)\n",
        "\n",
        "def generate_weight():\n",
        "    return round(random.uniform(45.0, 120.0), 1)\n",
        "\n",
        "def generate_fev_pct():\n",
        "    return round(random.uniform(20.0, 100.0), 1)\n",
        "\n",
        "def generate_dyspnea_description():\n",
        "    descriptions = [\n",
        "        \"Not troubled by breathlessness except on strenuous exercise\",\n",
        "        \"Short of breath when hurrying on the level or walking up a slight hill\",\n",
        "        \"Walks slower than people of the same age on the level because of breathlessness\",\n",
        "        \"Stops for breath after walking about 100 yards or after a few minutes on the level\",\n",
        "        \"Too breathless to leave the house\"\n",
        "    ]\n",
        "    return random.choice(descriptions)\n",
        "\n",
        "def generate_distance():\n",
        "    return random.randint(50, 500)\n",
        "\n",
        "def generate_hospital():\n",
        "    hospitals = [\"Hospital A\", \"Hospital B\", \"Hospital C\", \"Hospital D\", \"Hospital E\"]\n",
        "    return random.choice(hospitals)\n",
        "\n",
        "def create_sample_dataset(filename, num_records):\n",
        "    with open(filename, 'w', newline='') as csvfile:\n",
        "        fieldnames = ['NAME', 'SSN', 'LANGUAGE', 'JOB', 'HEIGHT_M', 'WEIGHT_KG', 'fev_pct', 'dyspnea_description', 'distance_in_meters', 'hospital']\n",
        "        writer = csv.DictWriter(csvfile, fieldnames=fieldnames)\n",
        "\n",
        "        writer.writeheader()\n",
        "        for _ in range(num_records):\n",
        "            writer.writerow({\n",
        "                'NAME': generate_name(),\n",
        "                'SSN': generate_ssn(),\n",
        "                'LANGUAGE': generate_language(),\n",
        "                'JOB': generate_job(),\n",
        "                'HEIGHT_M': generate_height(),\n",
        "                'WEIGHT_KG': generate_weight(),\n",
        "                'fev_pct': generate_fev_pct(),\n",
        "                'dyspnea_description': generate_dyspnea_description(),\n",
        "                'distance_in_meters': generate_distance(),\n",
        "                'hospital': generate_hospital()\n",
        "            })\n",
        "\n",
        "if __name__ == \"__main__\":\n",
        "    create_sample_dataset('patient_input.csv', 100)  # Creates 100 sample records\n",
        "    print(\"Sample dataset 'patient_input.csv' has been created.\")"
      ]
    },
    {
      "cell_type": "markdown",
      "metadata": {
        "id": "6MVeBn3tTcqs"
      },
      "source": [
        "### Step 5: Main business logic\n",
        "\n",
        "Call BODE Score, BODE Risk functions for each patient.\n",
        "\n",
        "For each hospital, calculate Avg BODE score and Avg BODE risk and count the number of cases for each hospital."
      ]
    },
    {
      "cell_type": "code",
      "source": [
        "import csv\n",
        "import random\n",
        "\n",
        "# Step 1: Function for calculating BMI\n",
        "def calculate_bmi(weight, height):\n",
        "    return round(weight / (height ** 2), 2)\n",
        "\n",
        "# Step 2: Function for calculating BODE score\n",
        "def calculate_bode_score(bmi, fev1_percentage, mrc_description, walk_distance):\n",
        "    bmi_points = 1 if bmi <= 21 else 0\n",
        "\n",
        "    if fev1_percentage >= 65:\n",
        "        fev1_points = 0\n",
        "    elif 50 <= fev1_percentage < 65:\n",
        "        fev1_points = 1\n",
        "    elif 36 <= fev1_percentage < 50:\n",
        "        fev1_points = 2\n",
        "    else:\n",
        "        fev1_points = 3\n",
        "\n",
        "    # Map MRC dyspnea description to MRC score\n",
        "    mrc_mapping = {\n",
        "        \"Not troubled by breathlessness except on strenuous exercise\": 1,\n",
        "        \"Short of breath when hurrying on the level or walking up a slight hill\": 2,\n",
        "        \"Walks slower than people of the same age on the level because of breathlessness\": 3,\n",
        "        \"Stops for breath after walking about 100 yards or after a few minutes on the level\": 4,\n",
        "        \"Too breathless to leave the house\": 5\n",
        "    }\n",
        "    mrc_score = mrc_mapping[mrc_description]\n",
        "    mrc_points = mrc_score - 1  # MRC score 1-5 converted to 0-4 points\n",
        "\n",
        "    if walk_distance >= 350:\n",
        "        walk_points = 0\n",
        "    elif 250 <= walk_distance < 350:\n",
        "        walk_points = 1\n",
        "    elif 150 <= walk_distance < 250:\n",
        "        walk_points = 2\n",
        "    else:\n",
        "        walk_points = 3\n",
        "\n",
        "    bode_score = bmi_points + fev1_points + mrc_points + walk_points\n",
        "    return bode_score\n",
        "\n",
        "# Step 3: Function for calculating BODE risk\n",
        "def calculate_bode_risk(bode_score):\n",
        "    if bode_score <= 2:\n",
        "        return 'Low risk'\n",
        "    elif 3 <= bode_score <= 4:\n",
        "        return 'Moderate risk'\n",
        "    elif 5 <= bode_score <= 6:\n",
        "        return 'High risk'\n",
        "    else:\n",
        "        return 'Very high risk'\n",
        "\n",
        "# Step 4: Define input and output file paths\n",
        "patient_csv = \"patient_input.csv\"\n",
        "patient_output_file = \"patient_output.csv\"\n",
        "hospital_output_file = \"hospital_output.csv\"\n",
        "\n",
        "patient_results = []\n",
        "hospital_stats = {}\n",
        "\n",
        "# Step 5: Read patient_input.csv and process data\n",
        "with open(patient_csv, 'r') as csvfile:\n",
        "    reader = csv.DictReader(csvfile)\n",
        "\n",
        "    for row in reader:\n",
        "        name = row['NAME']\n",
        "        height = float(row['HEIGHT_M'])\n",
        "        weight = float(row['WEIGHT_KG'])\n",
        "        fev_pct = float(row['fev_pct'])\n",
        "        dyspnea_description = row['dyspnea_description']\n",
        "        distance_in_meters = int(row['distance_in_meters'])\n",
        "        hospital = row['hospital']\n",
        "\n",
        "        # Calculate BMI, BODE score, and BODE risk\n",
        "        bmi = calculate_bmi(weight, height)\n",
        "        bode_score = calculate_bode_score(bmi, fev_pct, dyspnea_description, distance_in_meters)\n",
        "        bode_risk = calculate_bode_risk(bode_score)\n",
        "\n",
        "        # Store the patient results for patient_output.csv\n",
        "        patient_results.append([name, bode_score, bode_risk, hospital])\n",
        "\n",
        "        # Update hospital statistics\n",
        "        if hospital not in hospital_stats:\n",
        "            hospital_stats[hospital] = {\n",
        "                'copd_count': 0,\n",
        "                'total_bode_score': 0,\n",
        "                'total_risk_levels': {\n",
        "                    'Low risk': 0,\n",
        "                    'Moderate risk': 0,\n",
        "                    'High risk': 0,\n",
        "                    'Very high risk': 0\n",
        "                },\n",
        "                'bed_count': random.randint(100, 500)  # Random number of beds per hospital\n",
        "            }\n",
        "\n",
        "        hospital_stats[hospital]['copd_count'] += 1\n",
        "        hospital_stats[hospital]['total_bode_score'] += bode_score\n",
        "        hospital_stats[hospital]['total_risk_levels'][bode_risk] += 1\n",
        "\n",
        "# Write Patient_output.csv\n",
        "with open(patient_output_file, 'w', newline='') as csvfile:\n",
        "    writer = csv.writer(csvfile)\n",
        "    writer.writerow([\"NAME\", \"BODE_SCORE\", \"BODE_RISK\", \"HOSPITAL\"])  # Write header\n",
        "    writer.writerows(patient_results)\n",
        "\n",
        "# Write Hospital_output.csv\n",
        "with open(hospital_output_file, 'w', newline='') as csvfile:\n",
        "    writer = csv.writer(csvfile)\n",
        "    writer.writerow([\"HOSPITAL_NAME\", \"COPD_COUNT\", \"PCT_OF_COPD_CASES_OVER_BEDS\", \"AVG_SCORE\", \"AVG_RISK\"])  # Write header\n",
        "\n",
        "    for hospital, stats in hospital_stats.items():\n",
        "        copd_count = stats['copd_count']\n",
        "        total_beds = stats['bed_count']\n",
        "        total_bode_score = stats['total_bode_score']\n",
        "\n",
        "        # Calculate percentage of COPD cases over total hospital beds\n",
        "        pct_of_copd_cases = round((copd_count / total_beds) * 100, 2)\n",
        "\n",
        "        # Calculate average BODE score\n",
        "        avg_score = round(total_bode_score / copd_count, 2)\n",
        "\n",
        "        # Determine average risk by calculating the most frequent risk level\n",
        "        avg_risk = max(stats['total_risk_levels'], key=stats['total_risk_levels'].get)\n",
        "\n",
        "        # Write hospital statistics to the output file\n",
        "        writer.writerow([hospital, copd_count, pct_of_copd_cases, avg_score, avg_risk])\n",
        "\n",
        "print(\"Patient output and Hospital output files have been created.\")\n"
      ],
      "metadata": {
        "id": "rqici8d9W7GU",
        "outputId": "5cfb006c-baa9-4489-eb69-f4a1aeb43cef",
        "colab": {
          "base_uri": "https://localhost:8080/"
        }
      },
      "execution_count": 109,
      "outputs": [
        {
          "output_type": "stream",
          "name": "stdout",
          "text": [
            "Patient output and Hospital output files have been created.\n"
          ]
        }
      ]
    }
  ],
  "metadata": {
    "language_info": {
      "name": "python"
    },
    "colab": {
      "provenance": []
    },
    "kernelspec": {
      "name": "python3",
      "display_name": "Python 3"
    }
  },
  "nbformat": 4,
  "nbformat_minor": 0
}