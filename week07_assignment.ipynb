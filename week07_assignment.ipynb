{
  "cells": [
    {
      "cell_type": "markdown",
      "metadata": {
        "id": "view-in-github",
        "colab_type": "text"
      },
      "source": [
        "<a href=\"https://colab.research.google.com/github/dpatel159/HDS5210-homework/blob/main/week07_assignment.ipynb\" target=\"_parent\"><img src=\"https://colab.research.google.com/assets/colab-badge.svg\" alt=\"Open In Colab\"/></a>"
      ]
    },
    {
      "cell_type": "markdown",
      "metadata": {
        "id": "sKWt6T8rEaym"
      },
      "source": [
        "# Week 7 Assignment\n",
        "\n",
        "We've been working with different types of data structures in Python (dictionary, list, etc), how those are represented in JSON documents, and how to write code to access specific data elements. In this week's assignment, you will need to create your own JSON document to store information about yourself and the grades you've received from week 1 to week 4 and the week 6 quiz.  That is, everything you should have received a grade for.  Then you'll need to show me you know how to navigate the JSON in that file.\n",
        "\n",
        "Different from what we've done in the past, you do not have to write any functions or include any docstrings.  Just create some JSON and write some code.\n",
        "\n",
        "---"
      ]
    },
    {
      "cell_type": "markdown",
      "metadata": {
        "id": "MPsPLfBYEayp"
      },
      "source": [
        "## 7.1 Create a JSON file\n",
        "\n",
        "Create a JSON file that contains your name, email, year you were born, all of the grades you've received back so far, and a comment about what you thought was most challenging on each of those assignments.  This can be any structure you choose, but make sure it uses a dictionary and a list, and has at least two levels of hierarchy.  That is, it can't just be one big long list."
      ]
    },
    {
      "cell_type": "markdown",
      "metadata": {
        "id": "vxjcO7w5Eayq"
      },
      "source": [
        "First, explain how your data structure is going to look..."
      ]
    },
    {
      "cell_type": "markdown",
      "metadata": {
        "id": "q4onFToMEayq"
      },
      "source": [
        "* Put your explanation here in text..."
      ]
    },
    {
      "cell_type": "markdown",
      "metadata": {
        "id": "SEIxtPGHEayq"
      },
      "source": [
        "Then put the actual JSON you've created inside the multiline string below..."
      ]
    },
    {
      "cell_type": "code",
      "execution_count": 1,
      "metadata": {
        "id": "nKCQT7LGEayr"
      },
      "outputs": [],
      "source": [
        "hds5210 = \"\"\"\n",
        "{\n",
        "    \"me\": {\n",
        "        \"Nme\": \"Dhaval Patel\",\n",
        "        \"Email\": \"dhavalpatel891962@gmail.com\",\n",
        "        \"Date_of_birth\": 06/14/1995\n",
        "    },\n",
        "    \"grades\": [\n",
        "        {\n",
        "            \"Assignment\": \"week 01\",\n",
        "            \"Grade\": \"0/10\",\n",
        "            \"Comment\": \".\"\n",
        "        },\n",
        "        {\n",
        "            \"Assignment\": \"week 02\",\n",
        "            \"Grade\": \"10/10\",\n",
        "            \"Comment\": \"There were several difficult exercises in week two, but I did okay.\"\n",
        "        },\n",
        "        {\n",
        "            \"Assignment\": \"week 03\",\n",
        "            \"Grade\": \"10/10\",\n",
        "            \"Comment\": \"Week 3 was a bit harder due to more complex topics.\"\n",
        "        },\n",
        "        {\n",
        "            \"Assignment\": \"week 04\",\n",
        "            \"Grade\": \"09/10\",\n",
        "            \"Comment\": \"The join using a question assignment from Week 4 was difficult.\"\n",
        "        }\n",
        "    ]\n",
        "}\n",
        "\"\"\""
      ]
    },
    {
      "cell_type": "markdown",
      "metadata": {
        "id": "hiOvL_vEEays"
      },
      "source": [
        "## 7.2 Do something with your JSON\n",
        "\n",
        "Now use Python code to do something with the Json above.  Turn it into English text, but make sure that you use at least one loop to access some dict or list content of your JSON.  Below, I've provided some basic code to read in the string above as JSON and return a Python object.  Your job is to work with that data structure and print out the important information like your name, email, and how you did on each assignment."
      ]
    },
    {
      "cell_type": "code",
      "execution_count": 7,
      "metadata": {
        "id": "qeWkKiiNEays",
        "colab": {
          "base_uri": "https://localhost:8080/",
          "height": 211
        },
        "outputId": "3b1a9fd0-e7b9-4bcf-9f80-5d108c1dab43"
      },
      "outputs": [
        {
          "output_type": "error",
          "ename": "KeyError",
          "evalue": "'Date_of_birth'",
          "traceback": [
            "\u001b[0;31m---------------------------------------------------------------------------\u001b[0m",
            "\u001b[0;31mKeyError\u001b[0m                                  Traceback (most recent call last)",
            "\u001b[0;32m<ipython-input-7-1f954a4cc677>\u001b[0m in \u001b[0;36m<cell line: 7>\u001b[0;34m()\u001b[0m\n\u001b[1;32m      5\u001b[0m \u001b[0;34m\u001b[0m\u001b[0m\n\u001b[1;32m      6\u001b[0m \u001b[0mme_info\u001b[0m \u001b[0;34m=\u001b[0m \u001b[0minfo\u001b[0m\u001b[0;34m[\u001b[0m\u001b[0;34m\"me\"\u001b[0m\u001b[0;34m]\u001b[0m\u001b[0;34m\u001b[0m\u001b[0;34m\u001b[0m\u001b[0m\n\u001b[0;32m----> 7\u001b[0;31m \u001b[0myear_of_birth\u001b[0m \u001b[0;34m=\u001b[0m \u001b[0mme_info\u001b[0m\u001b[0;34m[\u001b[0m\u001b[0;34m\"Date_of_birth\"\u001b[0m\u001b[0;34m]\u001b[0m\u001b[0;34m\u001b[0m\u001b[0;34m\u001b[0m\u001b[0m\n\u001b[0m\u001b[1;32m      8\u001b[0m \u001b[0memail\u001b[0m \u001b[0;34m=\u001b[0m \u001b[0mme_info\u001b[0m\u001b[0;34m[\u001b[0m\u001b[0;34m\"Email\"\u001b[0m\u001b[0;34m]\u001b[0m\u001b[0;34m\u001b[0m\u001b[0;34m\u001b[0m\u001b[0m\n\u001b[1;32m      9\u001b[0m \u001b[0mgrades\u001b[0m \u001b[0;34m=\u001b[0m \u001b[0minfo\u001b[0m\u001b[0;34m[\u001b[0m\u001b[0;34m\"Grades\"\u001b[0m\u001b[0;34m]\u001b[0m\u001b[0;34m\u001b[0m\u001b[0;34m\u001b[0m\u001b[0m\n",
            "\u001b[0;31mKeyError\u001b[0m: 'Date_of_birth'"
          ]
        }
      ],
      "source": [
        "# Put your code to output a paragraph of English text here\n",
        "import json\n",
        "\n",
        "info = json.loads(hds5210)\n",
        "\n",
        "me_info = info[\"me\"]\n",
        "year_of_birth = me_info[\"Date_of_birth\"]\n",
        "email = me_info[\"Email\"]\n",
        "grades = info[\"Grades\"]\n",
        "total_assignments = len(grades)\n",
        "total_grades = sum(float(grade[\"Grade\"].split(\"/\")[0]) for grade in grades)\n",
        "\n",
        "print(f\"Hello, my name is {me_info['Nme']}. I was born in {Dater_of_birth}. My email ID is {Email}.\")\n",
        "print(f\"I have been graded for {total_assignments} assignments in hds5210 subject, which is a total of {total_grades} grades.\")\n",
        "# Put your code to output a paragraph of English text here"
      ]
    },
    {
      "cell_type": "markdown",
      "metadata": {
        "id": "8J9lT2LoEayt"
      },
      "source": [
        "## 7.3 Reflect\n",
        "\n",
        "Write a paragraph on any reflections you have. Was this hard? Easy?  What parts were most challenging or easiest? What did you like or dislike about the assignment?  Share whatever important thoughts you have abou this assignment."
      ]
    },
    {
      "cell_type": "markdown",
      "metadata": {
        "id": "-UXmkI1pEayt"
      },
      "source": [
        "* Put your response here"
      ]
    },
    {
      "cell_type": "markdown",
      "metadata": {
        "id": "wm3lk-eWEayt"
      },
      "source": [
        "---\n",
        "\n",
        "# Example\n",
        "\n",
        "Below is an example of something similar, but this uses information my and my friend's kids instead of grades."
      ]
    },
    {
      "cell_type": "code",
      "execution_count": 3,
      "metadata": {
        "id": "OIFPElmbEayt",
        "outputId": "334ae1a9-f5f1-47a4-c89e-ca0acc69e60b",
        "colab": {
          "base_uri": "https://localhost:8080/"
        }
      },
      "outputs": [
        {
          "output_type": "stream",
          "name": "stdout",
          "text": [
            "Hi, my name is Paul. I've got 3 kids. Their names are Ellie, Ada, Teddy.\n",
            "My friend, Anny has 1 kids. That's fewer than me. Their names are 1\n"
          ]
        }
      ],
      "source": [
        "hds5210 = \"\"\"\n",
        "{\n",
        "    \"me\": {\n",
        "        \"name\": \"Paul\",\n",
        "        \"kids\": [\"Ellie\", \"Ada\", \"Teddy\"]\n",
        "    },\n",
        "    \"friend\": {\n",
        "        \"name\": \"Anny\",\n",
        "        \"kids\": [\"Abby\"]\n",
        "    }\n",
        "}\n",
        "\"\"\"\n",
        "\n",
        "import json\n",
        "\n",
        "info = json.loads(hds5210)\n",
        "\n",
        "me = info[\"me\"][\"name\"]\n",
        "my_kids_count = len(info[\"me\"][\"kids\"])\n",
        "kids_list = \", \".join(info[\"me\"][\"kids\"])\n",
        "friend = info[\"friend\"][\"name\"]\n",
        "friends_kid_count = len(info[\"friend\"][\"kids\"])\n",
        "friend_kids = \", \".join(info[\"friend\"][\"kids\"])\n",
        "compare = \"more\" if friends_kid_count > my_kids_count else \"fewer\"\n",
        "\n",
        "print(f\"Hi, my name is {me}. I've got {my_kids_count} kids. Their names are {kids_list}.\")\n",
        "print(f\"My friend, {friend} has {friends_kid_count} kids. That's {compare} than me. Their names are {friends_kid_count}\")"
      ]
    }
  ],
  "metadata": {
    "kernelspec": {
      "display_name": "Python 3",
      "language": "python",
      "name": "python3"
    },
    "language_info": {
      "codemirror_mode": {
        "name": "ipython",
        "version": 3
      },
      "file_extension": ".py",
      "mimetype": "text/x-python",
      "name": "python",
      "nbconvert_exporter": "python",
      "pygments_lexer": "ipython3",
      "version": "3.9.16"
    },
    "colab": {
      "provenance": [],
      "include_colab_link": true
    }
  },
  "nbformat": 4,
  "nbformat_minor": 0
}